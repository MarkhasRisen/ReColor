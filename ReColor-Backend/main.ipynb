{
 "cells": [
  {
   "cell_type": "code",
   "execution_count": 22,
   "id": "964a0c26",
   "metadata": {},
   "outputs": [
    {
     "name": "stdout",
     "output_type": "stream",
     "text": [
      "✅ Dataset pixel array shape: (3072000, 3)\n"
     ]
    }
   ],
   "source": [
    "import os\n",
    "import numpy as np\n",
    "from PIL import Image\n",
    "\n",
    "# your dataset path\n",
    "dataset_path = \"C:\\\\xampp\\\\htdocs\\\\Evala\\\\ReColor\\\\ReColor-Backend\\\\color_dataset_rgb_hsv\"\n",
    "color_families = ['red', 'green', 'blue']\n",
    "\n",
    "dataset_pixels = []\n",
    "labels = []\n",
    "\n",
    "for color_name in color_families:\n",
    "    folder_path = os.path.join(dataset_path, color_name)\n",
    "    for file in os.listdir(folder_path):\n",
    "        img_path = os.path.join(folder_path, file)\n",
    "        img = Image.open(img_path).convert(\"RGB\").resize((32, 32))\n",
    "        pixels = np.array(img).reshape(-1, 3)  # flatten pixels\n",
    "        dataset_pixels.append(pixels)\n",
    "        labels.extend([color_name] * len(pixels))\n",
    "\n",
    "dataset_pixels = np.vstack(dataset_pixels)  # combine all pixels\n",
    "print(\"✅ Dataset pixel array shape:\", dataset_pixels.shape)\n"
   ]
  },
  {
   "cell_type": "code",
   "execution_count": 25,
   "id": "63745288",
   "metadata": {},
   "outputs": [
    {
     "name": "stdout",
     "output_type": "stream",
     "text": [
      "✅ K-Means centroids:\n",
      " [[ 38 193  38]\n",
      " [109 109 204]\n",
      " [ 26  28  27]\n",
      " [202 105 105]\n",
      " [110 209 110]\n",
      " [ 38  38 112]\n",
      " [208  36  36]\n",
      " [ 39 112  39]\n",
      " [111  37  38]\n",
      " [ 41  40 203]]\n"
     ]
    }
   ],
   "source": [
    "from sklearn.cluster import KMeans\n",
    "\n",
    "k = 3\n",
    "kmeans = KMeans(n_clusters=10, random_state=42)\n",
    "kmeans.fit(dataset_pixels)\n",
    "print(\"✅ K-Means centroids:\\n\", kmeans.cluster_centers_.astype(int))   "
   ]
  },
  {
   "cell_type": "code",
   "execution_count": null,
   "id": "f535c944",
   "metadata": {},
   "outputs": [],
   "source": [
    " "
   ]
  }
 ],
 "metadata": {
  "kernelspec": {
   "display_name": "venv (3.13.1)",
   "language": "python",
   "name": "python3"
  },
  "language_info": {
   "codemirror_mode": {
    "name": "ipython",
    "version": 3
   },
   "file_extension": ".py",
   "mimetype": "text/x-python",
   "name": "python",
   "nbconvert_exporter": "python",
   "pygments_lexer": "ipython3",
   "version": "3.13.1"
  }
 },
 "nbformat": 4,
 "nbformat_minor": 5
}
