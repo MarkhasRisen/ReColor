{
 "cells": [
  {
   "cell_type": "markdown",
   "id": "72ce2441",
   "metadata": {},
   "source": [
    "# Real Image Color Analysis with K-Means\n",
    "This notebook processes real images (from camera or uploads) instead of synthetic datasets.\n",
    "Uses K-means clustering in LAB color space for accurate color detection."
   ]
  },
  {
   "cell_type": "code",
   "execution_count": null,
   "id": "1550de07",
   "metadata": {},
   "outputs": [],
   "source": [
    "# Import necessary libraries for real image processing\n",
    "import numpy as np\n",
    "import cv2\n",
    "from PIL import Image\n",
    "import matplotlib.pyplot as plt\n",
    "from sklearn.cluster import KMeans\n",
    "from skimage import color as skcolor\n",
    "from kmeans_color_detector import KMeansColorDetector\n",
    "from image_processor import ImageProcessor\n",
    "import os\n",
    "\n",
    "print(\"✅ Libraries imported successfully\")"
   ]
  },
  {
   "cell_type": "code",
   "execution_count": null,
   "id": "5fca79fd",
   "metadata": {},
   "outputs": [],
   "source": [
    "# Initialize image processor for real-time analysis\n",
    "processor = ImageProcessor(save_images=True, output_dir=\"processed_images\")\n",
    "print(\"✅ Image processor initialized\")"
   ]
  },
  {
   "cell_type": "code",
   "execution_count": null,
   "id": "c85143b6",
   "metadata": {},
   "outputs": [],
   "source": [
    "# Method 1: Process image from file\n",
    "# Replace with your image path\n",
    "image_path = \"test_image.jpg\"  # Change this to your image path\n",
    "\n",
    "if os.path.exists(image_path):\n",
    "    # Load real image\n",
    "    image = cv2.imread(image_path)\n",
    "    image_rgb = cv2.cvtColor(image, cv2.COLOR_BGR2RGB)\n",
    "    \n",
    "    # Process with K-means (9 colors)\n",
    "    result = processor.process_camera_image(image_rgb, n_colors=9)\n",
    "    \n",
    "    if result['success']:\n",
    "        print(f\"✅ Image processed successfully!\")\n",
    "        print(f\"Timestamp: {result['timestamp']}\")\n",
    "        print(f\"Dominant color: {result['statistics']['dominant_color']}\")\n",
    "        print(f\"Total colors detected: {result['statistics']['total_colors']}\")\n",
    "        print(\"\\nDetected colors:\")\n",
    "        for color in result['detected_colors']:\n",
    "            print(f\"  - {color['name']}: {color['percentage']:.1f}%\")\n",
    "    else:\n",
    "        print(f\"❌ Error: {result.get('error')}\")\n",
    "else:\n",
    "    print(f\"⚠️  Image file not found: {image_path}\")\n",
    "    print(\"Please update the image_path variable with your image file\")"
   ]
  },
  {
   "cell_type": "code",
   "execution_count": null,
   "id": "0fb42bb1",
   "metadata": {},
   "outputs": [],
   "source": [
    "# Method 2: Capture from webcam\n",
    "# Uncomment to use camera capture\n",
    "# results = processor.process_real_time_stream(camera_index=0, duration_seconds=10, n_colors=9)\n",
    "# print(f\"Captured and processed {len(results)} frames\")"
   ]
  },
  {
   "cell_type": "code",
   "execution_count": 1,
   "id": "964a0c26",
   "metadata": {},
   "outputs": [
    {
     "ename": "FileNotFoundError",
     "evalue": "[WinError 3] The system cannot find the path specified: 'C:\\\\xampp\\\\htdocs\\\\Evala\\\\ReColor\\\\ReColor-Backend\\\\color_dataset_varied\\\\red'",
     "output_type": "error",
     "traceback": [
      "\u001b[31m---------------------------------------------------------------------------\u001b[39m",
      "\u001b[31mFileNotFoundError\u001b[39m                         Traceback (most recent call last)",
      "\u001b[36mCell\u001b[39m\u001b[36m \u001b[39m\u001b[32mIn[1]\u001b[39m\u001b[32m, line 13\u001b[39m\n\u001b[32m     11\u001b[39m \u001b[38;5;28;01mfor\u001b[39;00m color_name \u001b[38;5;129;01min\u001b[39;00m color_families:\n\u001b[32m     12\u001b[39m     folder_path = os.path.join(dataset_path, color_name)\n\u001b[32m---> \u001b[39m\u001b[32m13\u001b[39m     \u001b[38;5;28;01mfor\u001b[39;00m file \u001b[38;5;129;01min\u001b[39;00m \u001b[43mos\u001b[49m\u001b[43m.\u001b[49m\u001b[43mlistdir\u001b[49m\u001b[43m(\u001b[49m\u001b[43mfolder_path\u001b[49m\u001b[43m)\u001b[49m:\n\u001b[32m     14\u001b[39m         img_path = os.path.join(folder_path, file)\n\u001b[32m     15\u001b[39m         img = Image.open(img_path).convert(\u001b[33m\"\u001b[39m\u001b[33mRGB\u001b[39m\u001b[33m\"\u001b[39m).resize((\u001b[32m32\u001b[39m, \u001b[32m32\u001b[39m))\n",
      "\u001b[31mFileNotFoundError\u001b[39m: [WinError 3] The system cannot find the path specified: 'C:\\\\xampp\\\\htdocs\\\\Evala\\\\ReColor\\\\ReColor-Backend\\\\color_dataset_varied\\\\red'"
     ]
    }
   ],
   "source": [
    "import os\n",
    "import numpy as np\n",
    "from PIL import Image\n",
    "\n",
    "dataset_path = \"C:\\\\xampp\\\\htdocs\\\\Evala\\\\ReColor\\\\ReColor-Backend\\\\color_dataset_varied\"\n",
    "color_families = ['red', 'green', 'blue']\n",
    "\n",
    "dataset_pixels = []\n",
    "labels = []\n",
    "\n",
    "for color_name in color_families:\n",
    "    folder_path = os.path.join(dataset_path, color_name)\n",
    "    for file in os.listdir(folder_path):\n",
    "        img_path = os.path.join(folder_path, file)\n",
    "        img = Image.open(img_path).convert(\"RGB\").resize((32, 32))\n",
    "        pixels = np.array(img).reshape(-1, 3)  \n",
    "        dataset_pixels.append(pixels)\n",
    "        labels.extend([color_name] * len(pixels))\n",
    "\n",
    "dataset_pixels = np.vstack(dataset_pixels)  \n",
    "print(\"✅ Dataset pixel array shape:\", dataset_pixels.shape)\n"
   ]
  },
  {
   "cell_type": "code",
   "execution_count": 11,
   "id": "63745288",
   "metadata": {},
   "outputs": [
    {
     "name": "stdout",
     "output_type": "stream",
     "text": [
      "✅ K-Means centroids:\n",
      " [[ 38 129  38]\n",
      " [132  36  35]\n",
      " [ 37  37 146]\n",
      " [134 235 134]\n",
      " [228 106 107]\n",
      " [ 84  85 215]\n",
      " [ 29 192  28]\n",
      " [199  51  52]\n",
      " [198 184 215]\n",
      " [ 75 203  75]]\n"
     ]
    }
   ],
   "source": [
    "from sklearn.cluster import KMeans\n",
    "\n",
    "k = 3\n",
    "kmeans = KMeans(n_clusters=10, random_state=42)\n",
    "kmeans.fit(dataset_pixels)\n",
    "print(\"✅ K-Means centroids:\\n\", kmeans.cluster_centers_.astype(int))   "
   ]
  },
  {
   "cell_type": "code",
   "execution_count": 2,
   "id": "f535c944",
   "metadata": {},
   "outputs": [
    {
     "ename": "FileNotFoundError",
     "evalue": "[Errno 2] No such file or directory: 'C:\\\\xampp\\\\htdocs\\\\Evala\\\\ReColor\\\\test.jpg'",
     "output_type": "error",
     "traceback": [
      "\u001b[31m---------------------------------------------------------------------------\u001b[39m",
      "\u001b[31mFileNotFoundError\u001b[39m                         Traceback (most recent call last)",
      "\u001b[36mCell\u001b[39m\u001b[36m \u001b[39m\u001b[32mIn[2]\u001b[39m\u001b[32m, line 5\u001b[39m\n\u001b[32m      2\u001b[39m \u001b[38;5;28;01mimport\u001b[39;00m\u001b[38;5;250m \u001b[39m\u001b[34;01mmatplotlib\u001b[39;00m\u001b[34;01m.\u001b[39;00m\u001b[34;01mpyplot\u001b[39;00m\u001b[38;5;250m \u001b[39m\u001b[38;5;28;01mas\u001b[39;00m\u001b[38;5;250m \u001b[39m\u001b[34;01mplt\u001b[39;00m\n\u001b[32m      4\u001b[39m image_path = \u001b[33m\"\u001b[39m\u001b[33mC:\u001b[39m\u001b[38;5;130;01m\\\\\u001b[39;00m\u001b[33mxampp\u001b[39m\u001b[38;5;130;01m\\\\\u001b[39;00m\u001b[33mhtdocs\u001b[39m\u001b[38;5;130;01m\\\\\u001b[39;00m\u001b[33mEvala\u001b[39m\u001b[38;5;130;01m\\\\\u001b[39;00m\u001b[33mReColor\u001b[39m\u001b[38;5;130;01m\\\\\u001b[39;00m\u001b[33mtest.jpg\u001b[39m\u001b[33m\"\u001b[39m\n\u001b[32m----> \u001b[39m\u001b[32m5\u001b[39m image = \u001b[43mImage\u001b[49m\u001b[43m.\u001b[49m\u001b[43mopen\u001b[49m\u001b[43m(\u001b[49m\u001b[43mimage_path\u001b[49m\u001b[43m)\u001b[49m.convert(\u001b[33m\"\u001b[39m\u001b[33mRGB\u001b[39m\u001b[33m\"\u001b[39m)\n\u001b[32m      6\u001b[39m pixels = np.array(image)\n\u001b[32m      7\u001b[39m h, w, _ = pixels.shape\n",
      "\u001b[36mFile \u001b[39m\u001b[32mc:\\Users\\Justine\\AppData\\Local\\Programs\\Python\\Python313\\Lib\\site-packages\\PIL\\Image.py:3513\u001b[39m, in \u001b[36mopen\u001b[39m\u001b[34m(fp, mode, formats)\u001b[39m\n\u001b[32m   3511\u001b[39m \u001b[38;5;28;01mif\u001b[39;00m is_path(fp):\n\u001b[32m   3512\u001b[39m     filename = os.fspath(fp)\n\u001b[32m-> \u001b[39m\u001b[32m3513\u001b[39m     fp = \u001b[43mbuiltins\u001b[49m\u001b[43m.\u001b[49m\u001b[43mopen\u001b[49m\u001b[43m(\u001b[49m\u001b[43mfilename\u001b[49m\u001b[43m,\u001b[49m\u001b[43m \u001b[49m\u001b[33;43m\"\u001b[39;49m\u001b[33;43mrb\u001b[39;49m\u001b[33;43m\"\u001b[39;49m\u001b[43m)\u001b[49m\n\u001b[32m   3514\u001b[39m     exclusive_fp = \u001b[38;5;28;01mTrue\u001b[39;00m\n\u001b[32m   3515\u001b[39m \u001b[38;5;28;01melse\u001b[39;00m:\n",
      "\u001b[31mFileNotFoundError\u001b[39m: [Errno 2] No such file or directory: 'C:\\\\xampp\\\\htdocs\\\\Evala\\\\ReColor\\\\test.jpg'"
     ]
    }
   ],
   "source": [
    "from PIL import Image\n",
    "import matplotlib.pyplot as plt\n",
    "\n",
    "image_path = \"C:\\\\xampp\\\\htdocs\\\\Evala\\\\ReColor\\\\test.jpg\"\n",
    "image = Image.open(image_path).convert(\"RGB\")\n",
    "pixels = np.array(image)\n",
    "h, w, _ = pixels.shape\n",
    "pixels_2d = pixels.reshape(-1, 3)\n",
    "\n",
    "cluster_labels = kmeans.predict(pixels_2d)\n",
    "clustered_img = kmeans.cluster_centers_[cluster_labels].reshape(h, w, 3).astype(np.uint8)\n",
    "\n",
    "plt.figure(figsize=(10,5))\n",
    "plt.subplot(1,2,1)\n",
    "plt.title(\"Original\")\n",
    "plt.imshow(image)\n",
    "plt.axis(\"off\")\n",
    "\n",
    "plt.subplot(1,2,2)\n",
    "plt.title(\"Clustered (R/G/B Families)\")\n",
    "plt.imshow(clustered_img)\n",
    "plt.axis(\"off\")\n",
    "plt.show()"
   ]
  },
  {
   "cell_type": "code",
   "execution_count": 1,
   "id": "b5765546",
   "metadata": {},
   "outputs": [
    {
     "name": "stdout",
     "output_type": "stream",
     "text": [
      "Red     | RGB=(255, 0, 0) | HSV=(0.0°, 1.00, 1.00) | Lab=[53.24 80.09 67.2 ]\n",
      "Orange  | RGB=(255, 165, 0) | HSV=(38.8°, 1.00, 1.00) | Lab=[74.94 23.93 78.95]\n",
      "Yellow  | RGB=(255, 255, 0) | HSV=(60.0°, 1.00, 1.00) | Lab=[ 97.14 -21.55  94.48]\n",
      "Green   | RGB=(0, 255, 0) | HSV=(120.0°, 1.00, 1.00) | Lab=[ 87.74 -86.18  83.18]\n",
      "Cyan    | RGB=(0, 255, 255) | HSV=(180.0°, 1.00, 1.00) | Lab=[ 91.11 -48.09 -14.13]\n",
      "Blue    | RGB=(0, 0, 255) | HSV=(240.0°, 1.00, 1.00) | Lab=[  32.3    79.19 -107.86]\n",
      "Purple  | RGB=(128, 0, 128) | HSV=(300.0°, 1.00, 0.50) | Lab=[ 29.78  58.93 -36.48]\n",
      "White   | RGB=(255, 255, 255) | HSV=(0.0°, 0.00, 1.00) | Lab=[100.  -0.   0.]\n",
      "Black   | RGB=(0, 0, 0) | HSV=(0.0°, 0.00, 0.00) | Lab=[0. 0. 0.]\n"
     ]
    }
   ],
   "source": [
    "import colorsys\n",
    "import numpy as np\n",
    "from skimage import color\n",
    "\n",
    "colors = {\n",
    "    \"red\": (255, 0, 0),\n",
    "    \"orange\": (255, 165, 0),\n",
    "    \"yellow\": (255, 255, 0),\n",
    "    \"green\": (0, 255, 0),\n",
    "    \"cyan\": (0, 255, 255),\n",
    "    \"blue\": (0, 0, 255),\n",
    "    \"purple\": (128, 0, 128),\n",
    "    \"white\": (255, 255, 255),\n",
    "    \"black\": (0, 0, 0)\n",
    "}\n",
    "\n",
    "for name, rgb in colors.items():\n",
    "    rgb_norm = np.array(rgb) / 255.0\n",
    "    hsv = colorsys.rgb_to_hsv(*rgb_norm)\n",
    "    lab = color.rgb2lab(rgb_norm.reshape(1, 1, 3)).reshape(-1)\n",
    "    print(f\"{name.title():<7} | RGB={rgb} | HSV=({hsv[0]*360:.1f}°, {hsv[1]:.2f}, {hsv[2]:.2f}) | Lab={np.round(lab, 2)}\")\n"
   ]
  }
 ],
 "metadata": {
  "kernelspec": {
   "display_name": "Python 3",
   "language": "python",
   "name": "python3"
  },
  "language_info": {
   "codemirror_mode": {
    "name": "ipython",
    "version": 3
   },
   "file_extension": ".py",
   "mimetype": "text/x-python",
   "name": "python",
   "nbconvert_exporter": "python",
   "pygments_lexer": "ipython3",
   "version": "3.13.9"
  }
 },
 "nbformat": 4,
 "nbformat_minor": 5
}
